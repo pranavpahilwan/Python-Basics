{
 "cells": [
  {
   "cell_type": "raw",
   "id": "e4e46f4f-98b9-4028-bca3-5ef3ecb1c2ea",
   "metadata": {},
   "source": [
    "Q1. What are the characteristics of the tuples? Is tuple immutable?"
   ]
  },
  {
   "cell_type": "raw",
   "id": "03183ad0-0578-41ff-a34e-d235172ec220",
   "metadata": {},
   "source": [
    "The elements present in the tuple cannot be changed, So it is immutable.\n",
    "Tupple can have duplicate elements too.\n"
   ]
  },
  {
   "cell_type": "code",
   "execution_count": null,
   "id": "4ea88d81-18f7-480b-b623-678691800096",
   "metadata": {},
   "outputs": [],
   "source": []
  },
  {
   "cell_type": "markdown",
   "id": "3c0dde27-a1cd-4bc0-9a02-87b58e3dba59",
   "metadata": {
    "jp-MarkdownHeadingCollapsed": true,
    "tags": []
   },
   "source": [
    "### Q2. What are the two tuple methods in python? Give an example of each method. Give a reason why tuples have only two in-built methods as compared to Lists."
   ]
  },
  {
   "cell_type": "raw",
   "id": "927c8fd0-695a-467b-9f97-f4e4ec53088d",
   "metadata": {},
   "source": [
    "There are 2 tuple methods in python \n",
    "1. Count\n",
    "2. Index"
   ]
  },
  {
   "cell_type": "code",
   "execution_count": 10,
   "id": "9ac9b740-1456-4217-be6f-c534522f20c8",
   "metadata": {},
   "outputs": [
    {
     "data": {
      "text/plain": [
       "(1, 2, 4, 5, 6, 7, 5, 7, 3)"
      ]
     },
     "execution_count": 10,
     "metadata": {},
     "output_type": "execute_result"
    }
   ],
   "source": [
    "a=(1,2,4,5,6,7,5,7,3)\n",
    "a"
   ]
  },
  {
   "cell_type": "raw",
   "id": "373c2cc1-8493-4f44-93f9-70eb96cd88bf",
   "metadata": {},
   "source": [
    "'a' is a tuple"
   ]
  },
  {
   "cell_type": "code",
   "execution_count": 16,
   "id": "42ac4190-8a41-4bf5-8cb1-76ccc4b96784",
   "metadata": {},
   "outputs": [
    {
     "data": {
      "text/plain": [
       "2"
      ]
     },
     "execution_count": 16,
     "metadata": {},
     "output_type": "execute_result"
    }
   ],
   "source": [
    "a.count(7) # How many times the given element is presented in the tuple"
   ]
  },
  {
   "cell_type": "code",
   "execution_count": 20,
   "id": "8853421e-b087-47de-8aa4-c23dbbde63ff",
   "metadata": {},
   "outputs": [
    {
     "data": {
      "text/plain": [
       "1"
      ]
     },
     "execution_count": 20,
     "metadata": {},
     "output_type": "execute_result"
    }
   ],
   "source": [
    "a.index(2) #this function shows the index for the given element but only for 1st occcurance"
   ]
  },
  {
   "cell_type": "raw",
   "id": "cf6fd825-605f-439c-81aa-372fa7016130",
   "metadata": {},
   "source": [
    "Tuple are immutable. Means it is not changeable or modification can not be done in list. So, it doesn't have functions like list."
   ]
  },
  {
   "cell_type": "code",
   "execution_count": null,
   "id": "c3e56d96-fe9d-40c6-9503-7af6f0f92cf6",
   "metadata": {},
   "outputs": [],
   "source": []
  },
  {
   "cell_type": "markdown",
   "id": "8b357d3f-8c48-402a-bd20-6ec7a3c46113",
   "metadata": {
    "jp-MarkdownHeadingCollapsed": true,
    "tags": []
   },
   "source": [
    "### Q3. Which collection datatypes in python do not allow duplicate items? Write a code using a set to remove duplicates from the given list.\n"
   ]
  },
  {
   "cell_type": "code",
   "execution_count": 22,
   "id": "20b24547-aa85-48d3-9a53-950401c561eb",
   "metadata": {},
   "outputs": [],
   "source": [
    "List = [1, 1, 1, 2, 1, 3, 1, 4, 2, 1, 2, 2, 2, 3, 2, 4, 3, 1, 3, 2, 3, 3, 3, 4, 4, 1, 4, 2, 4, 3, 4, 4]"
   ]
  },
  {
   "cell_type": "code",
   "execution_count": 23,
   "id": "7ca62c0b-5a7a-4358-b05b-1facf5278f68",
   "metadata": {},
   "outputs": [
    {
     "data": {
      "text/plain": [
       "[1,\n",
       " 1,\n",
       " 1,\n",
       " 2,\n",
       " 1,\n",
       " 3,\n",
       " 1,\n",
       " 4,\n",
       " 2,\n",
       " 1,\n",
       " 2,\n",
       " 2,\n",
       " 2,\n",
       " 3,\n",
       " 2,\n",
       " 4,\n",
       " 3,\n",
       " 1,\n",
       " 3,\n",
       " 2,\n",
       " 3,\n",
       " 3,\n",
       " 3,\n",
       " 4,\n",
       " 4,\n",
       " 1,\n",
       " 4,\n",
       " 2,\n",
       " 4,\n",
       " 3,\n",
       " 4,\n",
       " 4]"
      ]
     },
     "execution_count": 23,
     "metadata": {},
     "output_type": "execute_result"
    }
   ],
   "source": [
    "List"
   ]
  },
  {
   "cell_type": "raw",
   "id": "c36c97ee-8fb9-49ea-9679-5c2f606f935e",
   "metadata": {},
   "source": [
    "'Set' Does not allow the duplicate items"
   ]
  },
  {
   "cell_type": "code",
   "execution_count": 24,
   "id": "a362364b-e16f-4d86-99e9-cd7284120099",
   "metadata": {},
   "outputs": [
    {
     "data": {
      "text/plain": [
       "{1, 2, 3, 4}"
      ]
     },
     "execution_count": 24,
     "metadata": {},
     "output_type": "execute_result"
    }
   ],
   "source": [
    "set(List)"
   ]
  },
  {
   "cell_type": "markdown",
   "id": "07f61a2d-6760-4c25-ac5b-25dd35a8cabe",
   "metadata": {
    "jp-MarkdownHeadingCollapsed": true,
    "tags": []
   },
   "source": [
    "### Q4. Explain the difference between the union() and update() methods for a set. Give an example of each method."
   ]
  },
  {
   "cell_type": "code",
   "execution_count": 43,
   "id": "927de77d-b63e-4d55-89be-9afa24c0b7a8",
   "metadata": {},
   "outputs": [],
   "source": [
    "a={1,2,3,4,5,6,1}\n",
    "b={4,5,6,7,8,9,4}\n"
   ]
  },
  {
   "cell_type": "code",
   "execution_count": 38,
   "id": "7e58ffa9-cd32-48c7-9099-8c35bba53540",
   "metadata": {},
   "outputs": [
    {
     "data": {
      "text/plain": [
       "{1, 2, 3, 4, 5, 6, 7, 8, 9}"
      ]
     },
     "execution_count": 38,
     "metadata": {},
     "output_type": "execute_result"
    }
   ],
   "source": [
    "a.union(b)"
   ]
  },
  {
   "cell_type": "code",
   "execution_count": 42,
   "id": "e7f667b0-c2b1-4590-8087-2bc785ba71c4",
   "metadata": {},
   "outputs": [
    {
     "data": {
      "text/plain": [
       "{1, 2, 3, 4, 5, 6, 7, 8, 9}"
      ]
     },
     "execution_count": 42,
     "metadata": {},
     "output_type": "execute_result"
    }
   ],
   "source": [
    "b.update(a)\n",
    "b"
   ]
  },
  {
   "cell_type": "raw",
   "id": "3688ce27-733c-41ff-aab0-576ee31e1684",
   "metadata": {},
   "source": [
    "The Difference between the union and update is union method create and return a new set containing all the distinct elements. Whereas, update method updates the same set on which the method is applied. "
   ]
  },
  {
   "cell_type": "markdown",
   "id": "52279254-0ef2-407f-8f9a-ad4356881771",
   "metadata": {
    "jp-MarkdownHeadingCollapsed": true,
    "tags": []
   },
   "source": [
    "### Q5. What is a dictionary? Give an example. Also, state whether a dictionary is ordered or unordered."
   ]
  },
  {
   "cell_type": "raw",
   "id": "4760cb4f-d34c-47cf-9673-8ea6f5943368",
   "metadata": {},
   "source": [
    "It is a collection of key-value pairs."
   ]
  },
  {
   "cell_type": "code",
   "execution_count": 45,
   "id": "95590ac3-47f7-4552-8be5-5dce373397e0",
   "metadata": {},
   "outputs": [],
   "source": [
    "a={'Name':'Pranav','Id':345}"
   ]
  },
  {
   "cell_type": "code",
   "execution_count": 46,
   "id": "db047ccc-6e1c-41fd-8903-c9dc7fd67ac1",
   "metadata": {},
   "outputs": [
    {
     "data": {
      "text/plain": [
       "{'Name': 'Pranav', 'Id': 345}"
      ]
     },
     "execution_count": 46,
     "metadata": {},
     "output_type": "execute_result"
    }
   ],
   "source": [
    "a"
   ]
  },
  {
   "cell_type": "code",
   "execution_count": 48,
   "id": "85c66f56-4833-467b-b048-e66f3c0f1027",
   "metadata": {},
   "outputs": [
    {
     "data": {
      "text/plain": [
       "dict"
      ]
     },
     "execution_count": 48,
     "metadata": {},
     "output_type": "execute_result"
    }
   ],
   "source": [
    "type(a)"
   ]
  },
  {
   "cell_type": "raw",
   "id": "8d41187e-6883-4197-b9ce-1ff0fe2da8ef",
   "metadata": {},
   "source": [
    "The dictionary is unordered datatype we cannot access it by indexing like list. The elements inside the dict can be accessed by the keys."
   ]
  },
  {
   "cell_type": "markdown",
   "id": "7a57df25-8634-4089-a384-fe05cf4dc3e5",
   "metadata": {},
   "source": [
    "### Q6. Can we create a nested dictionary? If so, please give an example by creating a simple one-level nested dictionary."
   ]
  },
  {
   "cell_type": "code",
   "execution_count": 61,
   "id": "4e9ea85e-6491-4ffa-8b06-0a4119865324",
   "metadata": {},
   "outputs": [],
   "source": [
    "d={'a': 23, 'b' : 12, 'c':{'name':'Ram','id':245}}"
   ]
  },
  {
   "cell_type": "code",
   "execution_count": 62,
   "id": "72eb7b3c-1cb0-44f5-ab36-85a33a43c21a",
   "metadata": {},
   "outputs": [
    {
     "data": {
      "text/plain": [
       "{'a': 23, 'b': 12, 'c': {'name': 'Ram', 'id': 245}}"
      ]
     },
     "execution_count": 62,
     "metadata": {},
     "output_type": "execute_result"
    }
   ],
   "source": [
    "d"
   ]
  },
  {
   "cell_type": "markdown",
   "id": "d1736375-c3b2-406e-af7e-ce6ea030379c",
   "metadata": {},
   "source": [
    "### Q7. Using setdefault() method, create key named topics in the given dictionary and also add the value ofthe key as this list ['Python', 'Machine Learning’, 'Deep Learning']"
   ]
  },
  {
   "cell_type": "code",
   "execution_count": 91,
   "id": "db87fbce-4145-459a-9587-f059ac12b46f",
   "metadata": {},
   "outputs": [],
   "source": [
    "dict1 = {'language' : 'Python', 'course': 'Data Science Masters'}"
   ]
  },
  {
   "cell_type": "code",
   "execution_count": 92,
   "id": "b178909f-ff29-4649-b1ae-ecf3b37fe2af",
   "metadata": {},
   "outputs": [],
   "source": [
    "lst = ['Python', 'Machine Learning', 'Deep Learning']"
   ]
  },
  {
   "cell_type": "code",
   "execution_count": 95,
   "id": "ef036f25-5277-4ac8-af40-84fde4688168",
   "metadata": {},
   "outputs": [
    {
     "data": {
      "text/plain": [
       "['Python', 'Machine Learning', 'Deep Learning']"
      ]
     },
     "execution_count": 95,
     "metadata": {},
     "output_type": "execute_result"
    }
   ],
   "source": [
    "dict1.setdefault('courses',lst)"
   ]
  },
  {
   "cell_type": "code",
   "execution_count": 96,
   "id": "4c106f51-f514-49b9-9213-eb26369802db",
   "metadata": {},
   "outputs": [
    {
     "data": {
      "text/plain": [
       "{'language': 'Python',\n",
       " 'course': 'Data Science Masters',\n",
       " 'courses': ['Python', 'Machine Learning', 'Deep Learning']}"
      ]
     },
     "execution_count": 96,
     "metadata": {},
     "output_type": "execute_result"
    }
   ],
   "source": [
    "dict1"
   ]
  },
  {
   "cell_type": "markdown",
   "id": "d2a3760a-625c-4086-8bb2-e57bab40e34f",
   "metadata": {},
   "source": [
    "### Q8. What are the three view objects in dictionaries? Use the three in-built methods in python to display  these three view objects for the given dictionary."
   ]
  },
  {
   "cell_type": "code",
   "execution_count": null,
   "id": "221376fd-5f6d-470c-9a8f-98760c1e24e3",
   "metadata": {},
   "outputs": [],
   "source": [
    "1. keys()\n",
    "2. "
   ]
  },
  {
   "cell_type": "code",
   "execution_count": 98,
   "id": "cffb5335-972d-4f28-bc37-28c7f6cb8f35",
   "metadata": {},
   "outputs": [],
   "source": [
    "dict1 = {'Sport': 'Cricket' , 'Teams': ['India', 'Australia', 'England', 'South Africa', 'Sri Lanka', 'New Zealand']}"
   ]
  },
  {
   "cell_type": "code",
   "execution_count": 99,
   "id": "effdfec8-1b17-4540-8c1d-ecb4b499d60e",
   "metadata": {},
   "outputs": [
    {
     "data": {
      "text/plain": [
       "{'Sport': 'Cricket',\n",
       " 'Teams': ['India',\n",
       "  'Australia',\n",
       "  'England',\n",
       "  'South Africa',\n",
       "  'Sri Lanka',\n",
       "  'New Zealand']}"
      ]
     },
     "execution_count": 99,
     "metadata": {},
     "output_type": "execute_result"
    }
   ],
   "source": [
    "dict1"
   ]
  },
  {
   "cell_type": "code",
   "execution_count": 100,
   "id": "dc6b0efb-457d-48cd-8c14-78bbe5b06338",
   "metadata": {},
   "outputs": [
    {
     "data": {
      "text/plain": [
       "dict_keys(['Sport', 'Teams'])"
      ]
     },
     "execution_count": 100,
     "metadata": {},
     "output_type": "execute_result"
    }
   ],
   "source": [
    "dict1.keys()"
   ]
  },
  {
   "cell_type": "code",
   "execution_count": 102,
   "id": "1fcf4a73-7a57-4518-a131-8a9aafde5425",
   "metadata": {},
   "outputs": [
    {
     "data": {
      "text/plain": [
       "dict_values(['Cricket', ['India', 'Australia', 'England', 'South Africa', 'Sri Lanka', 'New Zealand']])"
      ]
     },
     "execution_count": 102,
     "metadata": {},
     "output_type": "execute_result"
    }
   ],
   "source": [
    "dict1.values()"
   ]
  },
  {
   "cell_type": "code",
   "execution_count": 103,
   "id": "a1ff8c62-ca90-42b6-9fc5-6407df0ef4ed",
   "metadata": {},
   "outputs": [
    {
     "data": {
      "text/plain": [
       "dict_items([('Sport', 'Cricket'), ('Teams', ['India', 'Australia', 'England', 'South Africa', 'Sri Lanka', 'New Zealand'])])"
      ]
     },
     "execution_count": 103,
     "metadata": {},
     "output_type": "execute_result"
    }
   ],
   "source": [
    "dict1.items()"
   ]
  },
  {
   "cell_type": "code",
   "execution_count": null,
   "id": "1a08795d-072d-4463-bc18-884d4fb69a40",
   "metadata": {},
   "outputs": [],
   "source": []
  },
  {
   "cell_type": "code",
   "execution_count": null,
   "id": "6a67b0fd-b4ce-434b-9612-bb838a19c67d",
   "metadata": {},
   "outputs": [],
   "source": []
  },
  {
   "cell_type": "code",
   "execution_count": null,
   "id": "f213cf7a-809d-4541-82fb-23649dc7d6a7",
   "metadata": {},
   "outputs": [],
   "source": []
  },
  {
   "cell_type": "code",
   "execution_count": null,
   "id": "441b9f3a-ab6d-4c74-813b-e8b9934bc9de",
   "metadata": {},
   "outputs": [],
   "source": []
  }
 ],
 "metadata": {
  "kernelspec": {
   "display_name": "Python 3 (ipykernel)",
   "language": "python",
   "name": "python3"
  },
  "language_info": {
   "codemirror_mode": {
    "name": "ipython",
    "version": 3
   },
   "file_extension": ".py",
   "mimetype": "text/x-python",
   "name": "python",
   "nbconvert_exporter": "python",
   "pygments_lexer": "ipython3",
   "version": "3.10.8"
  }
 },
 "nbformat": 4,
 "nbformat_minor": 5
}
